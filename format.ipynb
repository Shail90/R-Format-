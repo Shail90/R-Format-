{
 "cells": [
  {
   "cell_type": "markdown",
   "metadata": {},
   "source": [
    "##### Wide format --> a lot of columns\n",
    "##### Long format --> a lot of rows"
   ]
  },
  {
   "cell_type": "code",
   "execution_count": 2,
   "metadata": {},
   "outputs": [],
   "source": [
    "data=data.frame(\n",
    "id=1:10,\n",
    "sex=sample(c(\"male\",\"female\"),10,replace = T),\n",
    "name=c(\"ram\",\"hari\",\"allah\",\"eid\",\"diwali\",\"ronak\",\"pooja\",\"ganesh\",\"akbar\",\"aladin\"),\n",
    "chem=sample(40:100,10),\n",
    "phy=sample(40:100,10),\n",
    "maths=sample(40:100,10))"
   ]
  },
  {
   "cell_type": "code",
   "execution_count": 3,
   "metadata": {},
   "outputs": [
    {
     "data": {
      "text/html": [
       "<table>\n",
       "<thead><tr><th scope=col>id</th><th scope=col>sex</th><th scope=col>name</th><th scope=col>chem</th><th scope=col>phy</th><th scope=col>maths</th></tr></thead>\n",
       "<tbody>\n",
       "\t<tr><td> 1    </td><td>male  </td><td>ram   </td><td> 42   </td><td> 64   </td><td> 80   </td></tr>\n",
       "\t<tr><td> 2    </td><td>male  </td><td>hari  </td><td> 91   </td><td> 54   </td><td> 77   </td></tr>\n",
       "\t<tr><td> 3    </td><td>female</td><td>allah </td><td> 95   </td><td> 63   </td><td> 67   </td></tr>\n",
       "\t<tr><td> 4    </td><td>male  </td><td>eid   </td><td>100   </td><td> 94   </td><td> 97   </td></tr>\n",
       "\t<tr><td> 5    </td><td>female</td><td>diwali</td><td> 62   </td><td> 78   </td><td>100   </td></tr>\n",
       "\t<tr><td> 6    </td><td>female</td><td>ronak </td><td> 65   </td><td>100   </td><td> 54   </td></tr>\n",
       "\t<tr><td> 7    </td><td>male  </td><td>pooja </td><td> 85   </td><td> 53   </td><td> 68   </td></tr>\n",
       "\t<tr><td> 8    </td><td>male  </td><td>ganesh</td><td> 73   </td><td> 52   </td><td> 99   </td></tr>\n",
       "\t<tr><td> 9    </td><td>male  </td><td>akbar </td><td> 76   </td><td> 81   </td><td> 87   </td></tr>\n",
       "\t<tr><td>10    </td><td>male  </td><td>aladin</td><td> 63   </td><td> 99   </td><td> 90   </td></tr>\n",
       "</tbody>\n",
       "</table>\n"
      ],
      "text/latex": [
       "\\begin{tabular}{r|llllll}\n",
       " id & sex & name & chem & phy & maths\\\\\n",
       "\\hline\n",
       "\t  1     & male   & ram    &  42    &  64    &  80   \\\\\n",
       "\t  2     & male   & hari   &  91    &  54    &  77   \\\\\n",
       "\t  3     & female & allah  &  95    &  63    &  67   \\\\\n",
       "\t  4     & male   & eid    & 100    &  94    &  97   \\\\\n",
       "\t  5     & female & diwali &  62    &  78    & 100   \\\\\n",
       "\t  6     & female & ronak  &  65    & 100    &  54   \\\\\n",
       "\t  7     & male   & pooja  &  85    &  53    &  68   \\\\\n",
       "\t  8     & male   & ganesh &  73    &  52    &  99   \\\\\n",
       "\t  9     & male   & akbar  &  76    &  81    &  87   \\\\\n",
       "\t 10     & male   & aladin &  63    &  99    &  90   \\\\\n",
       "\\end{tabular}\n"
      ],
      "text/markdown": [
       "\n",
       "| id | sex | name | chem | phy | maths |\n",
       "|---|---|---|---|---|---|\n",
       "|  1     | male   | ram    |  42    |  64    |  80    |\n",
       "|  2     | male   | hari   |  91    |  54    |  77    |\n",
       "|  3     | female | allah  |  95    |  63    |  67    |\n",
       "|  4     | male   | eid    | 100    |  94    |  97    |\n",
       "|  5     | female | diwali |  62    |  78    | 100    |\n",
       "|  6     | female | ronak  |  65    | 100    |  54    |\n",
       "|  7     | male   | pooja  |  85    |  53    |  68    |\n",
       "|  8     | male   | ganesh |  73    |  52    |  99    |\n",
       "|  9     | male   | akbar  |  76    |  81    |  87    |\n",
       "| 10     | male   | aladin |  63    |  99    |  90    |\n",
       "\n"
      ],
      "text/plain": [
       "   id sex    name   chem phy maths\n",
       "1   1 male   ram     42   64  80  \n",
       "2   2 male   hari    91   54  77  \n",
       "3   3 female allah   95   63  67  \n",
       "4   4 male   eid    100   94  97  \n",
       "5   5 female diwali  62   78 100  \n",
       "6   6 female ronak   65  100  54  \n",
       "7   7 male   pooja   85   53  68  \n",
       "8   8 male   ganesh  73   52  99  \n",
       "9   9 male   akbar   76   81  87  \n",
       "10 10 male   aladin  63   99  90  "
      ]
     },
     "metadata": {},
     "output_type": "display_data"
    }
   ],
   "source": [
    "data"
   ]
  },
  {
   "cell_type": "code",
   "execution_count": 5,
   "metadata": {},
   "outputs": [
    {
     "name": "stderr",
     "output_type": "stream",
     "text": [
      "Warning message:\n",
      "\"package 'reshape2' was built under R version 3.6.1\""
     ]
    }
   ],
   "source": [
    "library(\"reshape2\")"
   ]
  },
  {
   "cell_type": "code",
   "execution_count": 20,
   "metadata": {},
   "outputs": [],
   "source": [
    "mdef=melt(data,id.vars=c(\"id\",\"sex\",\"name\"),measure.vars = c(\"maths\",\"phy\",\"chem\"),\n",
    "    variable.name=\"subjects\",value.name=\"marks\")"
   ]
  },
  {
   "cell_type": "code",
   "execution_count": 21,
   "metadata": {},
   "outputs": [
    {
     "data": {
      "text/html": [
       "<table>\n",
       "<thead><tr><th></th><th scope=col>id</th><th scope=col>sex</th><th scope=col>name</th><th scope=col>subjects</th><th scope=col>marks</th></tr></thead>\n",
       "<tbody>\n",
       "\t<tr><th scope=row>18</th><td> 8    </td><td>male  </td><td>ganesh</td><td>phy   </td><td>52    </td></tr>\n",
       "\t<tr><th scope=row>1</th><td> 1    </td><td>male  </td><td>ram   </td><td>maths </td><td>80    </td></tr>\n",
       "\t<tr><th scope=row>26</th><td> 6    </td><td>female</td><td>ronak </td><td>chem  </td><td>65    </td></tr>\n",
       "\t<tr><th scope=row>12</th><td> 2    </td><td>male  </td><td>hari  </td><td>phy   </td><td>54    </td></tr>\n",
       "\t<tr><th scope=row>4</th><td> 4    </td><td>male  </td><td>eid   </td><td>maths </td><td>97    </td></tr>\n",
       "\t<tr><th scope=row>23</th><td> 3    </td><td>female</td><td>allah </td><td>chem  </td><td>95    </td></tr>\n",
       "\t<tr><th scope=row>28</th><td> 8    </td><td>male  </td><td>ganesh</td><td>chem  </td><td>73    </td></tr>\n",
       "\t<tr><th scope=row>2</th><td> 2    </td><td>male  </td><td>hari  </td><td>maths </td><td>77    </td></tr>\n",
       "\t<tr><th scope=row>10</th><td>10    </td><td>male  </td><td>aladin</td><td>maths </td><td>90    </td></tr>\n",
       "\t<tr><th scope=row>21</th><td> 1    </td><td>male  </td><td>ram   </td><td>chem  </td><td>42    </td></tr>\n",
       "</tbody>\n",
       "</table>\n"
      ],
      "text/latex": [
       "\\begin{tabular}{r|lllll}\n",
       "  & id & sex & name & subjects & marks\\\\\n",
       "\\hline\n",
       "\t18 &  8     & male   & ganesh & phy    & 52    \\\\\n",
       "\t1 &  1     & male   & ram    & maths  & 80    \\\\\n",
       "\t26 &  6     & female & ronak  & chem   & 65    \\\\\n",
       "\t12 &  2     & male   & hari   & phy    & 54    \\\\\n",
       "\t4 &  4     & male   & eid    & maths  & 97    \\\\\n",
       "\t23 &  3     & female & allah  & chem   & 95    \\\\\n",
       "\t28 &  8     & male   & ganesh & chem   & 73    \\\\\n",
       "\t2 &  2     & male   & hari   & maths  & 77    \\\\\n",
       "\t10 & 10     & male   & aladin & maths  & 90    \\\\\n",
       "\t21 &  1     & male   & ram    & chem   & 42    \\\\\n",
       "\\end{tabular}\n"
      ],
      "text/markdown": [
       "\n",
       "| <!--/--> | id | sex | name | subjects | marks |\n",
       "|---|---|---|---|---|---|\n",
       "| 18 |  8     | male   | ganesh | phy    | 52     |\n",
       "| 1 |  1     | male   | ram    | maths  | 80     |\n",
       "| 26 |  6     | female | ronak  | chem   | 65     |\n",
       "| 12 |  2     | male   | hari   | phy    | 54     |\n",
       "| 4 |  4     | male   | eid    | maths  | 97     |\n",
       "| 23 |  3     | female | allah  | chem   | 95     |\n",
       "| 28 |  8     | male   | ganesh | chem   | 73     |\n",
       "| 2 |  2     | male   | hari   | maths  | 77     |\n",
       "| 10 | 10     | male   | aladin | maths  | 90     |\n",
       "| 21 |  1     | male   | ram    | chem   | 42     |\n",
       "\n"
      ],
      "text/plain": [
       "   id sex    name   subjects marks\n",
       "18  8 male   ganesh phy      52   \n",
       "1   1 male   ram    maths    80   \n",
       "26  6 female ronak  chem     65   \n",
       "12  2 male   hari   phy      54   \n",
       "4   4 male   eid    maths    97   \n",
       "23  3 female allah  chem     95   \n",
       "28  8 male   ganesh chem     73   \n",
       "2   2 male   hari   maths    77   \n",
       "10 10 male   aladin maths    90   \n",
       "21  1 male   ram    chem     42   "
      ]
     },
     "metadata": {},
     "output_type": "display_data"
    }
   ],
   "source": [
    "mdef[sample(1:dim(mdef)[1],10),]"
   ]
  },
  {
   "cell_type": "code",
   "execution_count": 22,
   "metadata": {},
   "outputs": [
    {
     "data": {
      "text/html": [
       "<ol class=list-inline>\n",
       "\t<li>10</li>\n",
       "\t<li>6</li>\n",
       "</ol>\n"
      ],
      "text/latex": [
       "\\begin{enumerate*}\n",
       "\\item 10\n",
       "\\item 6\n",
       "\\end{enumerate*}\n"
      ],
      "text/markdown": [
       "1. 10\n",
       "2. 6\n",
       "\n",
       "\n"
      ],
      "text/plain": [
       "[1] 10  6"
      ]
     },
     "metadata": {},
     "output_type": "display_data"
    }
   ],
   "source": [
    "dim(data)"
   ]
  },
  {
   "cell_type": "code",
   "execution_count": 23,
   "metadata": {},
   "outputs": [
    {
     "data": {
      "text/html": [
       "<ol class=list-inline>\n",
       "\t<li>30</li>\n",
       "\t<li>5</li>\n",
       "</ol>\n"
      ],
      "text/latex": [
       "\\begin{enumerate*}\n",
       "\\item 30\n",
       "\\item 5\n",
       "\\end{enumerate*}\n"
      ],
      "text/markdown": [
       "1. 30\n",
       "2. 5\n",
       "\n",
       "\n"
      ],
      "text/plain": [
       "[1] 30  5"
      ]
     },
     "metadata": {},
     "output_type": "display_data"
    }
   ],
   "source": [
    "dim(mdef)"
   ]
  },
  {
   "cell_type": "code",
   "execution_count": 24,
   "metadata": {},
   "outputs": [
    {
     "data": {
      "text/html": [
       "<table>\n",
       "<thead><tr><th scope=col>id</th><th scope=col>name</th><th scope=col>maths</th><th scope=col>phy</th><th scope=col>chem</th></tr></thead>\n",
       "<tbody>\n",
       "\t<tr><td> 1    </td><td>ram   </td><td> 80   </td><td> 64   </td><td> 42   </td></tr>\n",
       "\t<tr><td> 2    </td><td>hari  </td><td> 77   </td><td> 54   </td><td> 91   </td></tr>\n",
       "\t<tr><td> 3    </td><td>allah </td><td> 67   </td><td> 63   </td><td> 95   </td></tr>\n",
       "\t<tr><td> 4    </td><td>eid   </td><td> 97   </td><td> 94   </td><td>100   </td></tr>\n",
       "\t<tr><td> 5    </td><td>diwali</td><td>100   </td><td> 78   </td><td> 62   </td></tr>\n",
       "\t<tr><td> 6    </td><td>ronak </td><td> 54   </td><td>100   </td><td> 65   </td></tr>\n",
       "\t<tr><td> 7    </td><td>pooja </td><td> 68   </td><td> 53   </td><td> 85   </td></tr>\n",
       "\t<tr><td> 8    </td><td>ganesh</td><td> 99   </td><td> 52   </td><td> 73   </td></tr>\n",
       "\t<tr><td> 9    </td><td>akbar </td><td> 87   </td><td> 81   </td><td> 76   </td></tr>\n",
       "\t<tr><td>10    </td><td>aladin</td><td> 90   </td><td> 99   </td><td> 63   </td></tr>\n",
       "</tbody>\n",
       "</table>\n"
      ],
      "text/latex": [
       "\\begin{tabular}{r|lllll}\n",
       " id & name & maths & phy & chem\\\\\n",
       "\\hline\n",
       "\t  1     & ram    &  80    &  64    &  42   \\\\\n",
       "\t  2     & hari   &  77    &  54    &  91   \\\\\n",
       "\t  3     & allah  &  67    &  63    &  95   \\\\\n",
       "\t  4     & eid    &  97    &  94    & 100   \\\\\n",
       "\t  5     & diwali & 100    &  78    &  62   \\\\\n",
       "\t  6     & ronak  &  54    & 100    &  65   \\\\\n",
       "\t  7     & pooja  &  68    &  53    &  85   \\\\\n",
       "\t  8     & ganesh &  99    &  52    &  73   \\\\\n",
       "\t  9     & akbar  &  87    &  81    &  76   \\\\\n",
       "\t 10     & aladin &  90    &  99    &  63   \\\\\n",
       "\\end{tabular}\n"
      ],
      "text/markdown": [
       "\n",
       "| id | name | maths | phy | chem |\n",
       "|---|---|---|---|---|\n",
       "|  1     | ram    |  80    |  64    |  42    |\n",
       "|  2     | hari   |  77    |  54    |  91    |\n",
       "|  3     | allah  |  67    |  63    |  95    |\n",
       "|  4     | eid    |  97    |  94    | 100    |\n",
       "|  5     | diwali | 100    |  78    |  62    |\n",
       "|  6     | ronak  |  54    | 100    |  65    |\n",
       "|  7     | pooja  |  68    |  53    |  85    |\n",
       "|  8     | ganesh |  99    |  52    |  73    |\n",
       "|  9     | akbar  |  87    |  81    |  76    |\n",
       "| 10     | aladin |  90    |  99    |  63    |\n",
       "\n"
      ],
      "text/plain": [
       "   id name   maths phy chem\n",
       "1   1 ram     80    64  42 \n",
       "2   2 hari    77    54  91 \n",
       "3   3 allah   67    63  95 \n",
       "4   4 eid     97    94 100 \n",
       "5   5 diwali 100    78  62 \n",
       "6   6 ronak   54   100  65 \n",
       "7   7 pooja   68    53  85 \n",
       "8   8 ganesh  99    52  73 \n",
       "9   9 akbar   87    81  76 \n",
       "10 10 aladin  90    99  63 "
      ]
     },
     "metadata": {},
     "output_type": "display_data"
    }
   ],
   "source": [
    "dcast(mdef,id+name~subjects,value.var=\"marks\")"
   ]
  },
  {
   "cell_type": "code",
   "execution_count": 25,
   "metadata": {},
   "outputs": [],
   "source": [
    "library(ggplot2)"
   ]
  },
  {
   "cell_type": "code",
   "execution_count": 38,
   "metadata": {},
   "outputs": [
    {
     "data": {
      "text/html": [
       "<table>\n",
       "<thead><tr><th scope=col>manufacturer</th><th scope=col>model</th><th scope=col>displ</th><th scope=col>year</th><th scope=col>cyl</th><th scope=col>trans</th><th scope=col>drv</th><th scope=col>cty</th><th scope=col>hwy</th><th scope=col>fl</th><th scope=col>class</th><th scope=col>id</th></tr></thead>\n",
       "<tbody>\n",
       "\t<tr><td>audi      </td><td>a4        </td><td>1.8       </td><td>1999      </td><td>4         </td><td>auto(l5)  </td><td>f         </td><td>18        </td><td>29        </td><td>p         </td><td>compact   </td><td>1         </td></tr>\n",
       "\t<tr><td>audi      </td><td>a4        </td><td>1.8       </td><td>1999      </td><td>4         </td><td>manual(m5)</td><td>f         </td><td>21        </td><td>29        </td><td>p         </td><td>compact   </td><td>2         </td></tr>\n",
       "\t<tr><td>audi      </td><td>a4        </td><td>2.0       </td><td>2008      </td><td>4         </td><td>manual(m6)</td><td>f         </td><td>20        </td><td>31        </td><td>p         </td><td>compact   </td><td>3         </td></tr>\n",
       "\t<tr><td>audi      </td><td>a4        </td><td>2.0       </td><td>2008      </td><td>4         </td><td>auto(av)  </td><td>f         </td><td>21        </td><td>30        </td><td>p         </td><td>compact   </td><td>4         </td></tr>\n",
       "\t<tr><td>audi      </td><td>a4        </td><td>2.8       </td><td>1999      </td><td>6         </td><td>auto(l5)  </td><td>f         </td><td>16        </td><td>26        </td><td>p         </td><td>compact   </td><td>5         </td></tr>\n",
       "\t<tr><td>audi      </td><td>a4        </td><td>2.8       </td><td>1999      </td><td>6         </td><td>manual(m5)</td><td>f         </td><td>18        </td><td>26        </td><td>p         </td><td>compact   </td><td>6         </td></tr>\n",
       "</tbody>\n",
       "</table>\n"
      ],
      "text/latex": [
       "\\begin{tabular}{r|llllllllllll}\n",
       " manufacturer & model & displ & year & cyl & trans & drv & cty & hwy & fl & class & id\\\\\n",
       "\\hline\n",
       "\t audi       & a4         & 1.8        & 1999       & 4          & auto(l5)   & f          & 18         & 29         & p          & compact    & 1         \\\\\n",
       "\t audi       & a4         & 1.8        & 1999       & 4          & manual(m5) & f          & 21         & 29         & p          & compact    & 2         \\\\\n",
       "\t audi       & a4         & 2.0        & 2008       & 4          & manual(m6) & f          & 20         & 31         & p          & compact    & 3         \\\\\n",
       "\t audi       & a4         & 2.0        & 2008       & 4          & auto(av)   & f          & 21         & 30         & p          & compact    & 4         \\\\\n",
       "\t audi       & a4         & 2.8        & 1999       & 6          & auto(l5)   & f          & 16         & 26         & p          & compact    & 5         \\\\\n",
       "\t audi       & a4         & 2.8        & 1999       & 6          & manual(m5) & f          & 18         & 26         & p          & compact    & 6         \\\\\n",
       "\\end{tabular}\n"
      ],
      "text/markdown": [
       "\n",
       "| manufacturer | model | displ | year | cyl | trans | drv | cty | hwy | fl | class | id |\n",
       "|---|---|---|---|---|---|---|---|---|---|---|---|\n",
       "| audi       | a4         | 1.8        | 1999       | 4          | auto(l5)   | f          | 18         | 29         | p          | compact    | 1          |\n",
       "| audi       | a4         | 1.8        | 1999       | 4          | manual(m5) | f          | 21         | 29         | p          | compact    | 2          |\n",
       "| audi       | a4         | 2.0        | 2008       | 4          | manual(m6) | f          | 20         | 31         | p          | compact    | 3          |\n",
       "| audi       | a4         | 2.0        | 2008       | 4          | auto(av)   | f          | 21         | 30         | p          | compact    | 4          |\n",
       "| audi       | a4         | 2.8        | 1999       | 6          | auto(l5)   | f          | 16         | 26         | p          | compact    | 5          |\n",
       "| audi       | a4         | 2.8        | 1999       | 6          | manual(m5) | f          | 18         | 26         | p          | compact    | 6          |\n",
       "\n"
      ],
      "text/plain": [
       "  manufacturer model displ year cyl trans      drv cty hwy fl class   id\n",
       "1 audi         a4    1.8   1999 4   auto(l5)   f   18  29  p  compact 1 \n",
       "2 audi         a4    1.8   1999 4   manual(m5) f   21  29  p  compact 2 \n",
       "3 audi         a4    2.0   2008 4   manual(m6) f   20  31  p  compact 3 \n",
       "4 audi         a4    2.0   2008 4   auto(av)   f   21  30  p  compact 4 \n",
       "5 audi         a4    2.8   1999 6   auto(l5)   f   16  26  p  compact 5 \n",
       "6 audi         a4    2.8   1999 6   manual(m5) f   18  26  p  compact 6 "
      ]
     },
     "metadata": {},
     "output_type": "display_data"
    }
   ],
   "source": [
    "\n",
    "df=mpg\n",
    "df$id=1:234\n",
    "head(df)"
   ]
  },
  {
   "cell_type": "code",
   "execution_count": 40,
   "metadata": {},
   "outputs": [],
   "source": [
    "mpg1=melt(df,id.vars=c(\"id\",\"manufacturer\",\"displ\",\"cty\",\"hwy\"),measure.vars = c(\"trans\",\"class\",\"model\"),\n",
    "    variable.name=\"fucntion\",value.name=\"newcal\")"
   ]
  },
  {
   "cell_type": "code",
   "execution_count": 41,
   "metadata": {},
   "outputs": [
    {
     "data": {
      "text/html": [
       "<table>\n",
       "<thead><tr><th scope=col>id</th><th scope=col>manufacturer</th><th scope=col>displ</th><th scope=col>cty</th><th scope=col>hwy</th><th scope=col>fucntion</th><th scope=col>newcal</th></tr></thead>\n",
       "<tbody>\n",
       "\t<tr><td>1         </td><td>audi      </td><td>1.8       </td><td>18        </td><td>29        </td><td>trans     </td><td>auto(l5)  </td></tr>\n",
       "\t<tr><td>2         </td><td>audi      </td><td>1.8       </td><td>21        </td><td>29        </td><td>trans     </td><td>manual(m5)</td></tr>\n",
       "\t<tr><td>3         </td><td>audi      </td><td>2.0       </td><td>20        </td><td>31        </td><td>trans     </td><td>manual(m6)</td></tr>\n",
       "\t<tr><td>4         </td><td>audi      </td><td>2.0       </td><td>21        </td><td>30        </td><td>trans     </td><td>auto(av)  </td></tr>\n",
       "\t<tr><td>5         </td><td>audi      </td><td>2.8       </td><td>16        </td><td>26        </td><td>trans     </td><td>auto(l5)  </td></tr>\n",
       "\t<tr><td>6         </td><td>audi      </td><td>2.8       </td><td>18        </td><td>26        </td><td>trans     </td><td>manual(m5)</td></tr>\n",
       "</tbody>\n",
       "</table>\n"
      ],
      "text/latex": [
       "\\begin{tabular}{r|lllllll}\n",
       " id & manufacturer & displ & cty & hwy & fucntion & newcal\\\\\n",
       "\\hline\n",
       "\t 1          & audi       & 1.8        & 18         & 29         & trans      & auto(l5)  \\\\\n",
       "\t 2          & audi       & 1.8        & 21         & 29         & trans      & manual(m5)\\\\\n",
       "\t 3          & audi       & 2.0        & 20         & 31         & trans      & manual(m6)\\\\\n",
       "\t 4          & audi       & 2.0        & 21         & 30         & trans      & auto(av)  \\\\\n",
       "\t 5          & audi       & 2.8        & 16         & 26         & trans      & auto(l5)  \\\\\n",
       "\t 6          & audi       & 2.8        & 18         & 26         & trans      & manual(m5)\\\\\n",
       "\\end{tabular}\n"
      ],
      "text/markdown": [
       "\n",
       "| id | manufacturer | displ | cty | hwy | fucntion | newcal |\n",
       "|---|---|---|---|---|---|---|\n",
       "| 1          | audi       | 1.8        | 18         | 29         | trans      | auto(l5)   |\n",
       "| 2          | audi       | 1.8        | 21         | 29         | trans      | manual(m5) |\n",
       "| 3          | audi       | 2.0        | 20         | 31         | trans      | manual(m6) |\n",
       "| 4          | audi       | 2.0        | 21         | 30         | trans      | auto(av)   |\n",
       "| 5          | audi       | 2.8        | 16         | 26         | trans      | auto(l5)   |\n",
       "| 6          | audi       | 2.8        | 18         | 26         | trans      | manual(m5) |\n",
       "\n"
      ],
      "text/plain": [
       "  id manufacturer displ cty hwy fucntion newcal    \n",
       "1 1  audi         1.8   18  29  trans    auto(l5)  \n",
       "2 2  audi         1.8   21  29  trans    manual(m5)\n",
       "3 3  audi         2.0   20  31  trans    manual(m6)\n",
       "4 4  audi         2.0   21  30  trans    auto(av)  \n",
       "5 5  audi         2.8   16  26  trans    auto(l5)  \n",
       "6 6  audi         2.8   18  26  trans    manual(m5)"
      ]
     },
     "metadata": {},
     "output_type": "display_data"
    }
   ],
   "source": [
    "head(mpg1)"
   ]
  },
  {
   "cell_type": "code",
   "execution_count": 43,
   "metadata": {},
   "outputs": [],
   "source": [
    "x=dcast(mpg1,id+manufacturer+displ+cty+hwy~fucntion,value.var=\"newcal\")"
   ]
  },
  {
   "cell_type": "code",
   "execution_count": 44,
   "metadata": {},
   "outputs": [
    {
     "data": {
      "text/html": [
       "<table>\n",
       "<thead><tr><th scope=col>id</th><th scope=col>manufacturer</th><th scope=col>displ</th><th scope=col>cty</th><th scope=col>hwy</th><th scope=col>trans</th><th scope=col>class</th><th scope=col>model</th></tr></thead>\n",
       "<tbody>\n",
       "\t<tr><td>1         </td><td>audi      </td><td>1.8       </td><td>18        </td><td>29        </td><td>auto(l5)  </td><td>compact   </td><td>a4        </td></tr>\n",
       "\t<tr><td>2         </td><td>audi      </td><td>1.8       </td><td>21        </td><td>29        </td><td>manual(m5)</td><td>compact   </td><td>a4        </td></tr>\n",
       "\t<tr><td>3         </td><td>audi      </td><td>2.0       </td><td>20        </td><td>31        </td><td>manual(m6)</td><td>compact   </td><td>a4        </td></tr>\n",
       "\t<tr><td>4         </td><td>audi      </td><td>2.0       </td><td>21        </td><td>30        </td><td>auto(av)  </td><td>compact   </td><td>a4        </td></tr>\n",
       "\t<tr><td>5         </td><td>audi      </td><td>2.8       </td><td>16        </td><td>26        </td><td>auto(l5)  </td><td>compact   </td><td>a4        </td></tr>\n",
       "\t<tr><td>6         </td><td>audi      </td><td>2.8       </td><td>18        </td><td>26        </td><td>manual(m5)</td><td>compact   </td><td>a4        </td></tr>\n",
       "</tbody>\n",
       "</table>\n"
      ],
      "text/latex": [
       "\\begin{tabular}{r|llllllll}\n",
       " id & manufacturer & displ & cty & hwy & trans & class & model\\\\\n",
       "\\hline\n",
       "\t 1          & audi       & 1.8        & 18         & 29         & auto(l5)   & compact    & a4        \\\\\n",
       "\t 2          & audi       & 1.8        & 21         & 29         & manual(m5) & compact    & a4        \\\\\n",
       "\t 3          & audi       & 2.0        & 20         & 31         & manual(m6) & compact    & a4        \\\\\n",
       "\t 4          & audi       & 2.0        & 21         & 30         & auto(av)   & compact    & a4        \\\\\n",
       "\t 5          & audi       & 2.8        & 16         & 26         & auto(l5)   & compact    & a4        \\\\\n",
       "\t 6          & audi       & 2.8        & 18         & 26         & manual(m5) & compact    & a4        \\\\\n",
       "\\end{tabular}\n"
      ],
      "text/markdown": [
       "\n",
       "| id | manufacturer | displ | cty | hwy | trans | class | model |\n",
       "|---|---|---|---|---|---|---|---|\n",
       "| 1          | audi       | 1.8        | 18         | 29         | auto(l5)   | compact    | a4         |\n",
       "| 2          | audi       | 1.8        | 21         | 29         | manual(m5) | compact    | a4         |\n",
       "| 3          | audi       | 2.0        | 20         | 31         | manual(m6) | compact    | a4         |\n",
       "| 4          | audi       | 2.0        | 21         | 30         | auto(av)   | compact    | a4         |\n",
       "| 5          | audi       | 2.8        | 16         | 26         | auto(l5)   | compact    | a4         |\n",
       "| 6          | audi       | 2.8        | 18         | 26         | manual(m5) | compact    | a4         |\n",
       "\n"
      ],
      "text/plain": [
       "  id manufacturer displ cty hwy trans      class   model\n",
       "1 1  audi         1.8   18  29  auto(l5)   compact a4   \n",
       "2 2  audi         1.8   21  29  manual(m5) compact a4   \n",
       "3 3  audi         2.0   20  31  manual(m6) compact a4   \n",
       "4 4  audi         2.0   21  30  auto(av)   compact a4   \n",
       "5 5  audi         2.8   16  26  auto(l5)   compact a4   \n",
       "6 6  audi         2.8   18  26  manual(m5) compact a4   "
      ]
     },
     "metadata": {},
     "output_type": "display_data"
    }
   ],
   "source": [
    "head(x)"
   ]
  },
  {
   "cell_type": "code",
   "execution_count": 48,
   "metadata": {},
   "outputs": [],
   "source": [
    "library(\"tidyr\")"
   ]
  },
  {
   "cell_type": "code",
   "execution_count": null,
   "metadata": {},
   "outputs": [],
   "source": []
  },
  {
   "cell_type": "markdown",
   "metadata": {},
   "source": [
    "##### tidyr\n",
    "* gather\n",
    "* spread\n",
    "* unite\n",
    "* seperate"
   ]
  },
  {
   "cell_type": "markdown",
   "metadata": {},
   "source": [
    "#### gather is equal to melt"
   ]
  },
  {
   "cell_type": "code",
   "execution_count": 47,
   "metadata": {},
   "outputs": [
    {
     "data": {
      "text/html": [
       "<table>\n",
       "<thead><tr><th scope=col>id</th><th scope=col>sex</th><th scope=col>name</th><th scope=col>subjects</th><th scope=col>marks</th></tr></thead>\n",
       "<tbody>\n",
       "\t<tr><td>1     </td><td>male  </td><td>ram   </td><td>chem  </td><td> 42   </td></tr>\n",
       "\t<tr><td>2     </td><td>male  </td><td>hari  </td><td>chem  </td><td> 91   </td></tr>\n",
       "\t<tr><td>3     </td><td>female</td><td>allah </td><td>chem  </td><td> 95   </td></tr>\n",
       "\t<tr><td>4     </td><td>male  </td><td>eid   </td><td>chem  </td><td>100   </td></tr>\n",
       "\t<tr><td>5     </td><td>female</td><td>diwali</td><td>chem  </td><td> 62   </td></tr>\n",
       "\t<tr><td>6     </td><td>female</td><td>ronak </td><td>chem  </td><td> 65   </td></tr>\n",
       "</tbody>\n",
       "</table>\n"
      ],
      "text/latex": [
       "\\begin{tabular}{r|lllll}\n",
       " id & sex & name & subjects & marks\\\\\n",
       "\\hline\n",
       "\t 1      & male   & ram    & chem   &  42   \\\\\n",
       "\t 2      & male   & hari   & chem   &  91   \\\\\n",
       "\t 3      & female & allah  & chem   &  95   \\\\\n",
       "\t 4      & male   & eid    & chem   & 100   \\\\\n",
       "\t 5      & female & diwali & chem   &  62   \\\\\n",
       "\t 6      & female & ronak  & chem   &  65   \\\\\n",
       "\\end{tabular}\n"
      ],
      "text/markdown": [
       "\n",
       "| id | sex | name | subjects | marks |\n",
       "|---|---|---|---|---|\n",
       "| 1      | male   | ram    | chem   |  42    |\n",
       "| 2      | male   | hari   | chem   |  91    |\n",
       "| 3      | female | allah  | chem   |  95    |\n",
       "| 4      | male   | eid    | chem   | 100    |\n",
       "| 5      | female | diwali | chem   |  62    |\n",
       "| 6      | female | ronak  | chem   |  65    |\n",
       "\n"
      ],
      "text/plain": [
       "  id sex    name   subjects marks\n",
       "1 1  male   ram    chem      42  \n",
       "2 2  male   hari   chem      91  \n",
       "3 3  female allah  chem      95  \n",
       "4 4  male   eid    chem     100  \n",
       "5 5  female diwali chem      62  \n",
       "6 6  female ronak  chem      65  "
      ]
     },
     "metadata": {},
     "output_type": "display_data"
    }
   ],
   "source": [
    "gdf=gather(data,key=\"subjects\",value=\"marks\",c(4,5,6))\n",
    "head(gdf)"
   ]
  },
  {
   "cell_type": "markdown",
   "metadata": {},
   "source": [
    "#### spread is equal to dcast"
   ]
  },
  {
   "cell_type": "code",
   "execution_count": 49,
   "metadata": {},
   "outputs": [
    {
     "data": {
      "text/html": [
       "<table>\n",
       "<thead><tr><th scope=col>id</th><th scope=col>sex</th><th scope=col>name</th><th scope=col>chem</th><th scope=col>maths</th><th scope=col>phy</th></tr></thead>\n",
       "<tbody>\n",
       "\t<tr><td>1     </td><td>male  </td><td>ram   </td><td> 42   </td><td> 80   </td><td> 64   </td></tr>\n",
       "\t<tr><td>2     </td><td>male  </td><td>hari  </td><td> 91   </td><td> 77   </td><td> 54   </td></tr>\n",
       "\t<tr><td>3     </td><td>female</td><td>allah </td><td> 95   </td><td> 67   </td><td> 63   </td></tr>\n",
       "\t<tr><td>4     </td><td>male  </td><td>eid   </td><td>100   </td><td> 97   </td><td> 94   </td></tr>\n",
       "\t<tr><td>5     </td><td>female</td><td>diwali</td><td> 62   </td><td>100   </td><td> 78   </td></tr>\n",
       "\t<tr><td>6     </td><td>female</td><td>ronak </td><td> 65   </td><td> 54   </td><td>100   </td></tr>\n",
       "</tbody>\n",
       "</table>\n"
      ],
      "text/latex": [
       "\\begin{tabular}{r|llllll}\n",
       " id & sex & name & chem & maths & phy\\\\\n",
       "\\hline\n",
       "\t 1      & male   & ram    &  42    &  80    &  64   \\\\\n",
       "\t 2      & male   & hari   &  91    &  77    &  54   \\\\\n",
       "\t 3      & female & allah  &  95    &  67    &  63   \\\\\n",
       "\t 4      & male   & eid    & 100    &  97    &  94   \\\\\n",
       "\t 5      & female & diwali &  62    & 100    &  78   \\\\\n",
       "\t 6      & female & ronak  &  65    &  54    & 100   \\\\\n",
       "\\end{tabular}\n"
      ],
      "text/markdown": [
       "\n",
       "| id | sex | name | chem | maths | phy |\n",
       "|---|---|---|---|---|---|\n",
       "| 1      | male   | ram    |  42    |  80    |  64    |\n",
       "| 2      | male   | hari   |  91    |  77    |  54    |\n",
       "| 3      | female | allah  |  95    |  67    |  63    |\n",
       "| 4      | male   | eid    | 100    |  97    |  94    |\n",
       "| 5      | female | diwali |  62    | 100    |  78    |\n",
       "| 6      | female | ronak  |  65    |  54    | 100    |\n",
       "\n"
      ],
      "text/plain": [
       "  id sex    name   chem maths phy\n",
       "1 1  male   ram     42   80    64\n",
       "2 2  male   hari    91   77    54\n",
       "3 3  female allah   95   67    63\n",
       "4 4  male   eid    100   97    94\n",
       "5 5  female diwali  62  100    78\n",
       "6 6  female ronak   65   54   100"
      ]
     },
     "metadata": {},
     "output_type": "display_data"
    }
   ],
   "source": [
    "sdf=spread(gdf,key=\"subjects\",value=\"marks\")\n",
    "head(sdf)"
   ]
  },
  {
   "cell_type": "code",
   "execution_count": 62,
   "metadata": {},
   "outputs": [
    {
     "data": {
      "text/html": [
       "<table>\n",
       "<thead><tr><th scope=col>id</th><th scope=col>manufacturer</th><th scope=col>displ</th><th scope=col>cty</th><th scope=col>hwy</th><th scope=col>function</th><th scope=col>newcal</th></tr></thead>\n",
       "<tbody>\n",
       "\t<tr><td>1    </td><td>audi </td><td>1.8  </td><td>18   </td><td>29   </td><td>model</td><td>a4   </td></tr>\n",
       "\t<tr><td>2    </td><td>audi </td><td>1.8  </td><td>21   </td><td>29   </td><td>model</td><td>a4   </td></tr>\n",
       "\t<tr><td>3    </td><td>audi </td><td>2.0  </td><td>20   </td><td>31   </td><td>model</td><td>a4   </td></tr>\n",
       "\t<tr><td>4    </td><td>audi </td><td>2.0  </td><td>21   </td><td>30   </td><td>model</td><td>a4   </td></tr>\n",
       "\t<tr><td>5    </td><td>audi </td><td>2.8  </td><td>16   </td><td>26   </td><td>model</td><td>a4   </td></tr>\n",
       "\t<tr><td>6    </td><td>audi </td><td>2.8  </td><td>18   </td><td>26   </td><td>model</td><td>a4   </td></tr>\n",
       "</tbody>\n",
       "</table>\n"
      ],
      "text/latex": [
       "\\begin{tabular}{r|lllllll}\n",
       " id & manufacturer & displ & cty & hwy & function & newcal\\\\\n",
       "\\hline\n",
       "\t 1     & audi  & 1.8   & 18    & 29    & model & a4   \\\\\n",
       "\t 2     & audi  & 1.8   & 21    & 29    & model & a4   \\\\\n",
       "\t 3     & audi  & 2.0   & 20    & 31    & model & a4   \\\\\n",
       "\t 4     & audi  & 2.0   & 21    & 30    & model & a4   \\\\\n",
       "\t 5     & audi  & 2.8   & 16    & 26    & model & a4   \\\\\n",
       "\t 6     & audi  & 2.8   & 18    & 26    & model & a4   \\\\\n",
       "\\end{tabular}\n"
      ],
      "text/markdown": [
       "\n",
       "| id | manufacturer | displ | cty | hwy | function | newcal |\n",
       "|---|---|---|---|---|---|---|\n",
       "| 1     | audi  | 1.8   | 18    | 29    | model | a4    |\n",
       "| 2     | audi  | 1.8   | 21    | 29    | model | a4    |\n",
       "| 3     | audi  | 2.0   | 20    | 31    | model | a4    |\n",
       "| 4     | audi  | 2.0   | 21    | 30    | model | a4    |\n",
       "| 5     | audi  | 2.8   | 16    | 26    | model | a4    |\n",
       "| 6     | audi  | 2.8   | 18    | 26    | model | a4    |\n",
       "\n"
      ],
      "text/plain": [
       "  id manufacturer displ cty hwy function newcal\n",
       "1 1  audi         1.8   18  29  model    a4    \n",
       "2 2  audi         1.8   21  29  model    a4    \n",
       "3 3  audi         2.0   20  31  model    a4    \n",
       "4 4  audi         2.0   21  30  model    a4    \n",
       "5 5  audi         2.8   16  26  model    a4    \n",
       "6 6  audi         2.8   18  26  model    a4    "
      ]
     },
     "metadata": {},
     "output_type": "display_data"
    }
   ],
   "source": [
    "gdf=gather(df,key=\"function\",value=\"newcal\",c(2,6,11))\n",
    "gdf=gdf[,c(\"id\",\"manufacturer\",\"displ\",\"cty\",\"hwy\",\"function\",\"newcal\")]\n",
    "head(gdf)"
   ]
  },
  {
   "cell_type": "code",
   "execution_count": 63,
   "metadata": {},
   "outputs": [
    {
     "data": {
      "text/html": [
       "<table>\n",
       "<thead><tr><th scope=col>id</th><th scope=col>manufacturer</th><th scope=col>displ</th><th scope=col>cty</th><th scope=col>hwy</th><th scope=col>class</th><th scope=col>model</th><th scope=col>trans</th></tr></thead>\n",
       "<tbody>\n",
       "\t<tr><td>1         </td><td>audi      </td><td>1.8       </td><td>18        </td><td>29        </td><td>compact   </td><td>a4        </td><td>auto(l5)  </td></tr>\n",
       "\t<tr><td>2         </td><td>audi      </td><td>1.8       </td><td>21        </td><td>29        </td><td>compact   </td><td>a4        </td><td>manual(m5)</td></tr>\n",
       "\t<tr><td>3         </td><td>audi      </td><td>2.0       </td><td>20        </td><td>31        </td><td>compact   </td><td>a4        </td><td>manual(m6)</td></tr>\n",
       "\t<tr><td>4         </td><td>audi      </td><td>2.0       </td><td>21        </td><td>30        </td><td>compact   </td><td>a4        </td><td>auto(av)  </td></tr>\n",
       "\t<tr><td>5         </td><td>audi      </td><td>2.8       </td><td>16        </td><td>26        </td><td>compact   </td><td>a4        </td><td>auto(l5)  </td></tr>\n",
       "\t<tr><td>6         </td><td>audi      </td><td>2.8       </td><td>18        </td><td>26        </td><td>compact   </td><td>a4        </td><td>manual(m5)</td></tr>\n",
       "</tbody>\n",
       "</table>\n"
      ],
      "text/latex": [
       "\\begin{tabular}{r|llllllll}\n",
       " id & manufacturer & displ & cty & hwy & class & model & trans\\\\\n",
       "\\hline\n",
       "\t 1          & audi       & 1.8        & 18         & 29         & compact    & a4         & auto(l5)  \\\\\n",
       "\t 2          & audi       & 1.8        & 21         & 29         & compact    & a4         & manual(m5)\\\\\n",
       "\t 3          & audi       & 2.0        & 20         & 31         & compact    & a4         & manual(m6)\\\\\n",
       "\t 4          & audi       & 2.0        & 21         & 30         & compact    & a4         & auto(av)  \\\\\n",
       "\t 5          & audi       & 2.8        & 16         & 26         & compact    & a4         & auto(l5)  \\\\\n",
       "\t 6          & audi       & 2.8        & 18         & 26         & compact    & a4         & manual(m5)\\\\\n",
       "\\end{tabular}\n"
      ],
      "text/markdown": [
       "\n",
       "| id | manufacturer | displ | cty | hwy | class | model | trans |\n",
       "|---|---|---|---|---|---|---|---|\n",
       "| 1          | audi       | 1.8        | 18         | 29         | compact    | a4         | auto(l5)   |\n",
       "| 2          | audi       | 1.8        | 21         | 29         | compact    | a4         | manual(m5) |\n",
       "| 3          | audi       | 2.0        | 20         | 31         | compact    | a4         | manual(m6) |\n",
       "| 4          | audi       | 2.0        | 21         | 30         | compact    | a4         | auto(av)   |\n",
       "| 5          | audi       | 2.8        | 16         | 26         | compact    | a4         | auto(l5)   |\n",
       "| 6          | audi       | 2.8        | 18         | 26         | compact    | a4         | manual(m5) |\n",
       "\n"
      ],
      "text/plain": [
       "  id manufacturer displ cty hwy class   model trans     \n",
       "1 1  audi         1.8   18  29  compact a4    auto(l5)  \n",
       "2 2  audi         1.8   21  29  compact a4    manual(m5)\n",
       "3 3  audi         2.0   20  31  compact a4    manual(m6)\n",
       "4 4  audi         2.0   21  30  compact a4    auto(av)  \n",
       "5 5  audi         2.8   16  26  compact a4    auto(l5)  \n",
       "6 6  audi         2.8   18  26  compact a4    manual(m5)"
      ]
     },
     "metadata": {},
     "output_type": "display_data"
    }
   ],
   "source": [
    "sdf=spread(gdf,key=\"function\",value=\"newcal\")\n",
    "head(sdf)"
   ]
  },
  {
   "cell_type": "code",
   "execution_count": 73,
   "metadata": {},
   "outputs": [],
   "source": [
    "x=c(\"2019-08-01\",\"2019-08-02\",\"2019-08-03\",\"2019-08-04\",\"2019-08-05\",\n",
    "    \"2019-08-06\",\"2019-08-07\",\"2019-08-08\",\"2019-08-09\",\"2019-08-10\",\"2019-08-11\",\"2019-08-12\",\n",
    "    \"2018-08-01\",\"2018-08-02\",\"2018-08-03\",\"2018-08-04\",\"2018-08-05\",\n",
    "    \"2018-08-06\",\"2018-08-07\",\"2018-08-08\",\"2018-08-09\",\"2018-08-10\",\"2018-08-11\",\"2018-08-12\"\n",
    "     )"
   ]
  },
  {
   "cell_type": "code",
   "execution_count": 76,
   "metadata": {},
   "outputs": [],
   "source": [
    "date=as.Date(\"2019-08-24\")\n",
    "for(c in 1:24){\n",
    "    date[c]=as.Date(x[c]);\n",
    "    \n",
    "}"
   ]
  },
  {
   "cell_type": "code",
   "execution_count": 77,
   "metadata": {},
   "outputs": [
    {
     "data": {
      "text/html": [
       "<time datetime=\"2019-08-01\">2019-08-01</time>"
      ],
      "text/latex": [
       "2019-08-01"
      ],
      "text/markdown": [
       "2019-08-01"
      ],
      "text/plain": [
       "[1] \"2019-08-01\""
      ]
     },
     "metadata": {},
     "output_type": "display_data"
    }
   ],
   "source": [
    "date[1]"
   ]
  },
  {
   "cell_type": "code",
   "execution_count": 79,
   "metadata": {},
   "outputs": [],
   "source": [
    "df=data.frame(\n",
    "date=date,\n",
    "A=sample(40:100,24),\n",
    "B=sample(40:100,24),\n",
    "C=sample(40:100,24),\n",
    "product=sample(c(\"phone\",\"referig\",\"tv\",\"laptop\"),24,replace=T)\n",
    ")"
   ]
  },
  {
   "cell_type": "code",
   "execution_count": 80,
   "metadata": {},
   "outputs": [
    {
     "data": {
      "text/html": [
       "<table>\n",
       "<thead><tr><th scope=col>date</th><th scope=col>A</th><th scope=col>B</th><th scope=col>C</th><th scope=col>product</th></tr></thead>\n",
       "<tbody>\n",
       "\t<tr><td>2019-08-01</td><td>57        </td><td>68        </td><td>98        </td><td>phone     </td></tr>\n",
       "\t<tr><td>2019-08-02</td><td>73        </td><td>91        </td><td>68        </td><td>referig   </td></tr>\n",
       "\t<tr><td>2019-08-03</td><td>51        </td><td>45        </td><td>56        </td><td>tv        </td></tr>\n",
       "\t<tr><td>2019-08-04</td><td>42        </td><td>71        </td><td>81        </td><td>referig   </td></tr>\n",
       "\t<tr><td>2019-08-05</td><td>79        </td><td>95        </td><td>53        </td><td>laptop    </td></tr>\n",
       "\t<tr><td>2019-08-06</td><td>97        </td><td>65        </td><td>79        </td><td>laptop    </td></tr>\n",
       "</tbody>\n",
       "</table>\n"
      ],
      "text/latex": [
       "\\begin{tabular}{r|lllll}\n",
       " date & A & B & C & product\\\\\n",
       "\\hline\n",
       "\t 2019-08-01 & 57         & 68         & 98         & phone     \\\\\n",
       "\t 2019-08-02 & 73         & 91         & 68         & referig   \\\\\n",
       "\t 2019-08-03 & 51         & 45         & 56         & tv        \\\\\n",
       "\t 2019-08-04 & 42         & 71         & 81         & referig   \\\\\n",
       "\t 2019-08-05 & 79         & 95         & 53         & laptop    \\\\\n",
       "\t 2019-08-06 & 97         & 65         & 79         & laptop    \\\\\n",
       "\\end{tabular}\n"
      ],
      "text/markdown": [
       "\n",
       "| date | A | B | C | product |\n",
       "|---|---|---|---|---|\n",
       "| 2019-08-01 | 57         | 68         | 98         | phone      |\n",
       "| 2019-08-02 | 73         | 91         | 68         | referig    |\n",
       "| 2019-08-03 | 51         | 45         | 56         | tv         |\n",
       "| 2019-08-04 | 42         | 71         | 81         | referig    |\n",
       "| 2019-08-05 | 79         | 95         | 53         | laptop     |\n",
       "| 2019-08-06 | 97         | 65         | 79         | laptop     |\n",
       "\n"
      ],
      "text/plain": [
       "  date       A  B  C  product\n",
       "1 2019-08-01 57 68 98 phone  \n",
       "2 2019-08-02 73 91 68 referig\n",
       "3 2019-08-03 51 45 56 tv     \n",
       "4 2019-08-04 42 71 81 referig\n",
       "5 2019-08-05 79 95 53 laptop \n",
       "6 2019-08-06 97 65 79 laptop "
      ]
     },
     "metadata": {},
     "output_type": "display_data"
    }
   ],
   "source": [
    "head(df)"
   ]
  },
  {
   "cell_type": "code",
   "execution_count": 81,
   "metadata": {},
   "outputs": [],
   "source": [
    "ndf=separate(df,col=\"date\",into=c(\"year\",\"month\",\"day\"),sep=\"-\")"
   ]
  },
  {
   "cell_type": "code",
   "execution_count": 82,
   "metadata": {},
   "outputs": [
    {
     "data": {
      "text/html": [
       "<table>\n",
       "<thead><tr><th scope=col>year</th><th scope=col>month</th><th scope=col>day</th><th scope=col>A</th><th scope=col>B</th><th scope=col>C</th><th scope=col>product</th></tr></thead>\n",
       "<tbody>\n",
       "\t<tr><td>2019   </td><td>08     </td><td>01     </td><td>57     </td><td>68     </td><td>98     </td><td>phone  </td></tr>\n",
       "\t<tr><td>2019   </td><td>08     </td><td>02     </td><td>73     </td><td>91     </td><td>68     </td><td>referig</td></tr>\n",
       "\t<tr><td>2019   </td><td>08     </td><td>03     </td><td>51     </td><td>45     </td><td>56     </td><td>tv     </td></tr>\n",
       "\t<tr><td>2019   </td><td>08     </td><td>04     </td><td>42     </td><td>71     </td><td>81     </td><td>referig</td></tr>\n",
       "\t<tr><td>2019   </td><td>08     </td><td>05     </td><td>79     </td><td>95     </td><td>53     </td><td>laptop </td></tr>\n",
       "\t<tr><td>2019   </td><td>08     </td><td>06     </td><td>97     </td><td>65     </td><td>79     </td><td>laptop </td></tr>\n",
       "</tbody>\n",
       "</table>\n"
      ],
      "text/latex": [
       "\\begin{tabular}{r|lllllll}\n",
       " year & month & day & A & B & C & product\\\\\n",
       "\\hline\n",
       "\t 2019    & 08      & 01      & 57      & 68      & 98      & phone  \\\\\n",
       "\t 2019    & 08      & 02      & 73      & 91      & 68      & referig\\\\\n",
       "\t 2019    & 08      & 03      & 51      & 45      & 56      & tv     \\\\\n",
       "\t 2019    & 08      & 04      & 42      & 71      & 81      & referig\\\\\n",
       "\t 2019    & 08      & 05      & 79      & 95      & 53      & laptop \\\\\n",
       "\t 2019    & 08      & 06      & 97      & 65      & 79      & laptop \\\\\n",
       "\\end{tabular}\n"
      ],
      "text/markdown": [
       "\n",
       "| year | month | day | A | B | C | product |\n",
       "|---|---|---|---|---|---|---|\n",
       "| 2019    | 08      | 01      | 57      | 68      | 98      | phone   |\n",
       "| 2019    | 08      | 02      | 73      | 91      | 68      | referig |\n",
       "| 2019    | 08      | 03      | 51      | 45      | 56      | tv      |\n",
       "| 2019    | 08      | 04      | 42      | 71      | 81      | referig |\n",
       "| 2019    | 08      | 05      | 79      | 95      | 53      | laptop  |\n",
       "| 2019    | 08      | 06      | 97      | 65      | 79      | laptop  |\n",
       "\n"
      ],
      "text/plain": [
       "  year month day A  B  C  product\n",
       "1 2019 08    01  57 68 98 phone  \n",
       "2 2019 08    02  73 91 68 referig\n",
       "3 2019 08    03  51 45 56 tv     \n",
       "4 2019 08    04  42 71 81 referig\n",
       "5 2019 08    05  79 95 53 laptop \n",
       "6 2019 08    06  97 65 79 laptop "
      ]
     },
     "metadata": {},
     "output_type": "display_data"
    }
   ],
   "source": [
    "head(ndf)"
   ]
  },
  {
   "cell_type": "code",
   "execution_count": 83,
   "metadata": {},
   "outputs": [],
   "source": [
    "udf=unite(ndf,col=\"date\",c(1,2,3),sep=\"/\")"
   ]
  },
  {
   "cell_type": "code",
   "execution_count": 84,
   "metadata": {},
   "outputs": [
    {
     "data": {
      "text/html": [
       "<table>\n",
       "<thead><tr><th scope=col>date</th><th scope=col>A</th><th scope=col>B</th><th scope=col>C</th><th scope=col>product</th></tr></thead>\n",
       "<tbody>\n",
       "\t<tr><td>2019/08/01</td><td>57        </td><td>68        </td><td>98        </td><td>phone     </td></tr>\n",
       "\t<tr><td>2019/08/02</td><td>73        </td><td>91        </td><td>68        </td><td>referig   </td></tr>\n",
       "\t<tr><td>2019/08/03</td><td>51        </td><td>45        </td><td>56        </td><td>tv        </td></tr>\n",
       "\t<tr><td>2019/08/04</td><td>42        </td><td>71        </td><td>81        </td><td>referig   </td></tr>\n",
       "\t<tr><td>2019/08/05</td><td>79        </td><td>95        </td><td>53        </td><td>laptop    </td></tr>\n",
       "\t<tr><td>2019/08/06</td><td>97        </td><td>65        </td><td>79        </td><td>laptop    </td></tr>\n",
       "</tbody>\n",
       "</table>\n"
      ],
      "text/latex": [
       "\\begin{tabular}{r|lllll}\n",
       " date & A & B & C & product\\\\\n",
       "\\hline\n",
       "\t 2019/08/01 & 57         & 68         & 98         & phone     \\\\\n",
       "\t 2019/08/02 & 73         & 91         & 68         & referig   \\\\\n",
       "\t 2019/08/03 & 51         & 45         & 56         & tv        \\\\\n",
       "\t 2019/08/04 & 42         & 71         & 81         & referig   \\\\\n",
       "\t 2019/08/05 & 79         & 95         & 53         & laptop    \\\\\n",
       "\t 2019/08/06 & 97         & 65         & 79         & laptop    \\\\\n",
       "\\end{tabular}\n"
      ],
      "text/markdown": [
       "\n",
       "| date | A | B | C | product |\n",
       "|---|---|---|---|---|\n",
       "| 2019/08/01 | 57         | 68         | 98         | phone      |\n",
       "| 2019/08/02 | 73         | 91         | 68         | referig    |\n",
       "| 2019/08/03 | 51         | 45         | 56         | tv         |\n",
       "| 2019/08/04 | 42         | 71         | 81         | referig    |\n",
       "| 2019/08/05 | 79         | 95         | 53         | laptop     |\n",
       "| 2019/08/06 | 97         | 65         | 79         | laptop     |\n",
       "\n"
      ],
      "text/plain": [
       "  date       A  B  C  product\n",
       "1 2019/08/01 57 68 98 phone  \n",
       "2 2019/08/02 73 91 68 referig\n",
       "3 2019/08/03 51 45 56 tv     \n",
       "4 2019/08/04 42 71 81 referig\n",
       "5 2019/08/05 79 95 53 laptop \n",
       "6 2019/08/06 97 65 79 laptop "
      ]
     },
     "metadata": {},
     "output_type": "display_data"
    }
   ],
   "source": [
    "head(udf)"
   ]
  },
  {
   "cell_type": "markdown",
   "metadata": {},
   "source": [
    "##### sqldf"
   ]
  },
  {
   "cell_type": "code",
   "execution_count": 106,
   "metadata": {},
   "outputs": [],
   "source": [
    "library(\"sqldf\")"
   ]
  },
  {
   "cell_type": "code",
   "execution_count": 107,
   "metadata": {},
   "outputs": [
    {
     "data": {
      "text/html": [
       "<table>\n",
       "<thead><tr><th scope=col>id</th><th scope=col>sex</th><th scope=col>name</th><th scope=col>chem</th><th scope=col>phy</th><th scope=col>maths</th></tr></thead>\n",
       "<tbody>\n",
       "\t<tr><td>1     </td><td>male  </td><td>ram   </td><td> 42   </td><td> 64   </td><td> 80   </td></tr>\n",
       "\t<tr><td>2     </td><td>male  </td><td>hari  </td><td> 91   </td><td> 54   </td><td> 77   </td></tr>\n",
       "\t<tr><td>3     </td><td>female</td><td>allah </td><td> 95   </td><td> 63   </td><td> 67   </td></tr>\n",
       "\t<tr><td>4     </td><td>male  </td><td>eid   </td><td>100   </td><td> 94   </td><td> 97   </td></tr>\n",
       "\t<tr><td>5     </td><td>female</td><td>diwali</td><td> 62   </td><td> 78   </td><td>100   </td></tr>\n",
       "\t<tr><td>6     </td><td>female</td><td>ronak </td><td> 65   </td><td>100   </td><td> 54   </td></tr>\n",
       "</tbody>\n",
       "</table>\n"
      ],
      "text/latex": [
       "\\begin{tabular}{r|llllll}\n",
       " id & sex & name & chem & phy & maths\\\\\n",
       "\\hline\n",
       "\t 1      & male   & ram    &  42    &  64    &  80   \\\\\n",
       "\t 2      & male   & hari   &  91    &  54    &  77   \\\\\n",
       "\t 3      & female & allah  &  95    &  63    &  67   \\\\\n",
       "\t 4      & male   & eid    & 100    &  94    &  97   \\\\\n",
       "\t 5      & female & diwali &  62    &  78    & 100   \\\\\n",
       "\t 6      & female & ronak  &  65    & 100    &  54   \\\\\n",
       "\\end{tabular}\n"
      ],
      "text/markdown": [
       "\n",
       "| id | sex | name | chem | phy | maths |\n",
       "|---|---|---|---|---|---|\n",
       "| 1      | male   | ram    |  42    |  64    |  80    |\n",
       "| 2      | male   | hari   |  91    |  54    |  77    |\n",
       "| 3      | female | allah  |  95    |  63    |  67    |\n",
       "| 4      | male   | eid    | 100    |  94    |  97    |\n",
       "| 5      | female | diwali |  62    |  78    | 100    |\n",
       "| 6      | female | ronak  |  65    | 100    |  54    |\n",
       "\n"
      ],
      "text/plain": [
       "  id sex    name   chem phy maths\n",
       "1 1  male   ram     42   64  80  \n",
       "2 2  male   hari    91   54  77  \n",
       "3 3  female allah   95   63  67  \n",
       "4 4  male   eid    100   94  97  \n",
       "5 5  female diwali  62   78 100  \n",
       "6 6  female ronak   65  100  54  "
      ]
     },
     "metadata": {},
     "output_type": "display_data"
    }
   ],
   "source": [
    "head(data)"
   ]
  },
  {
   "cell_type": "code",
   "execution_count": 110,
   "metadata": {},
   "outputs": [],
   "source": [
    "d = data"
   ]
  },
  {
   "cell_type": "code",
   "execution_count": 111,
   "metadata": {},
   "outputs": [
    {
     "data": {
      "text/html": [
       "<table>\n",
       "<thead><tr><th scope=col>name</th><th scope=col>phy</th><th scope=col>chem</th><th scope=col>maths</th></tr></thead>\n",
       "<tbody>\n",
       "\t<tr><td>ram   </td><td> 64   </td><td> 42   </td><td> 80   </td></tr>\n",
       "\t<tr><td>hari  </td><td> 54   </td><td> 91   </td><td> 77   </td></tr>\n",
       "\t<tr><td>allah </td><td> 63   </td><td> 95   </td><td> 67   </td></tr>\n",
       "\t<tr><td>eid   </td><td> 94   </td><td>100   </td><td> 97   </td></tr>\n",
       "\t<tr><td>diwali</td><td> 78   </td><td> 62   </td><td>100   </td></tr>\n",
       "\t<tr><td>ronak </td><td>100   </td><td> 65   </td><td> 54   </td></tr>\n",
       "\t<tr><td>pooja </td><td> 53   </td><td> 85   </td><td> 68   </td></tr>\n",
       "\t<tr><td>ganesh</td><td> 52   </td><td> 73   </td><td> 99   </td></tr>\n",
       "\t<tr><td>akbar </td><td> 81   </td><td> 76   </td><td> 87   </td></tr>\n",
       "\t<tr><td>aladin</td><td> 99   </td><td> 63   </td><td> 90   </td></tr>\n",
       "</tbody>\n",
       "</table>\n"
      ],
      "text/latex": [
       "\\begin{tabular}{r|llll}\n",
       " name & phy & chem & maths\\\\\n",
       "\\hline\n",
       "\t ram    &  64    &  42    &  80   \\\\\n",
       "\t hari   &  54    &  91    &  77   \\\\\n",
       "\t allah  &  63    &  95    &  67   \\\\\n",
       "\t eid    &  94    & 100    &  97   \\\\\n",
       "\t diwali &  78    &  62    & 100   \\\\\n",
       "\t ronak  & 100    &  65    &  54   \\\\\n",
       "\t pooja  &  53    &  85    &  68   \\\\\n",
       "\t ganesh &  52    &  73    &  99   \\\\\n",
       "\t akbar  &  81    &  76    &  87   \\\\\n",
       "\t aladin &  99    &  63    &  90   \\\\\n",
       "\\end{tabular}\n"
      ],
      "text/markdown": [
       "\n",
       "| name | phy | chem | maths |\n",
       "|---|---|---|---|\n",
       "| ram    |  64    |  42    |  80    |\n",
       "| hari   |  54    |  91    |  77    |\n",
       "| allah  |  63    |  95    |  67    |\n",
       "| eid    |  94    | 100    |  97    |\n",
       "| diwali |  78    |  62    | 100    |\n",
       "| ronak  | 100    |  65    |  54    |\n",
       "| pooja  |  53    |  85    |  68    |\n",
       "| ganesh |  52    |  73    |  99    |\n",
       "| akbar  |  81    |  76    |  87    |\n",
       "| aladin |  99    |  63    |  90    |\n",
       "\n"
      ],
      "text/plain": [
       "   name   phy chem maths\n",
       "1  ram     64  42   80  \n",
       "2  hari    54  91   77  \n",
       "3  allah   63  95   67  \n",
       "4  eid     94 100   97  \n",
       "5  diwali  78  62  100  \n",
       "6  ronak  100  65   54  \n",
       "7  pooja   53  85   68  \n",
       "8  ganesh  52  73   99  \n",
       "9  akbar   81  76   87  \n",
       "10 aladin  99  63   90  "
      ]
     },
     "metadata": {},
     "output_type": "display_data"
    }
   ],
   "source": [
    "sqldf(\"select name,phy,chem,maths from d\")"
   ]
  },
  {
   "cell_type": "code",
   "execution_count": 99,
   "metadata": {},
   "outputs": [
    {
     "ename": "ERROR",
     "evalue": "Error: Table data exists in database, and both overwrite and append are FALSE\n",
     "output_type": "error",
     "traceback": [
      "Error: Table data exists in database, and both overwrite and append are FALSE\nTraceback:\n",
      "1. sqldf(\"select * from data \")",
      "2. dbWriteTable(connection, nam, DF, row.names = row.names)",
      "3. dbWriteTable(connection, nam, DF, row.names = row.names)",
      "4. .local(conn, name, value, ...)",
      "5. stop(\"Table \", name, \" exists in database, and both overwrite and\", \n .     \" append are FALSE\", call. = FALSE)"
     ]
    }
   ],
   "source": [
    "sqldf(\"select * from data \")"
   ]
  },
  {
   "cell_type": "code",
   "execution_count": 100,
   "metadata": {},
   "outputs": [
    {
     "ename": "ERROR",
     "evalue": "Error: Table data exists in database, and both overwrite and append are FALSE\n",
     "output_type": "error",
     "traceback": [
      "Error: Table data exists in database, and both overwrite and append are FALSE\nTraceback:\n",
      "1. sqldf(\"select name,phy,chem,maths from data\")",
      "2. dbWriteTable(connection, nam, DF, row.names = row.names)",
      "3. dbWriteTable(connection, nam, DF, row.names = row.names)",
      "4. .local(conn, name, value, ...)",
      "5. stop(\"Table \", name, \" exists in database, and both overwrite and\", \n .     \" append are FALSE\", call. = FALSE)"
     ]
    }
   ],
   "source": [
    "sqldf(\"select name,phy,chem,maths from data\")"
   ]
  },
  {
   "cell_type": "code",
   "execution_count": null,
   "metadata": {},
   "outputs": [],
   "source": []
  }
 ],
 "metadata": {
  "kernelspec": {
   "display_name": "R",
   "language": "R",
   "name": "ir"
  },
  "language_info": {
   "codemirror_mode": "r",
   "file_extension": ".r",
   "mimetype": "text/x-r-source",
   "name": "R",
   "pygments_lexer": "r",
   "version": "3.6.0"
  }
 },
 "nbformat": 4,
 "nbformat_minor": 2
}
